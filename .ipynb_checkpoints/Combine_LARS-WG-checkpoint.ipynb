{
 "cells": [
  {
   "cell_type": "markdown",
   "id": "6053b921",
   "metadata": {},
   "source": [
    "#### this notebook is to merge the synthetic data from LARS-WG with the climate date for crop simulation"
   ]
  },
  {
   "cell_type": "code",
   "execution_count": 1,
   "id": "5f389cef",
   "metadata": {},
   "outputs": [],
   "source": [
    "#import the pandas package for 2D processing\n",
    "import pandas as pd\n",
    "from datetime import datetime"
   ]
  },
  {
   "cell_type": "code",
   "execution_count": 2,
   "id": "f82fe874",
   "metadata": {},
   "outputs": [],
   "source": [
    "# import historic data tab deliminator \n",
    "df_hist=pd.read_csv('data/Historical.dat',delimiter='\\t')"
   ]
  },
  {
   "cell_type": "code",
   "execution_count": 3,
   "id": "d3e9145f",
   "metadata": {},
   "outputs": [
    {
     "data": {
      "text/html": [
       "<div>\n",
       "<style scoped>\n",
       "    .dataframe tbody tr th:only-of-type {\n",
       "        vertical-align: middle;\n",
       "    }\n",
       "\n",
       "    .dataframe tbody tr th {\n",
       "        vertical-align: top;\n",
       "    }\n",
       "\n",
       "    .dataframe thead th {\n",
       "        text-align: right;\n",
       "    }\n",
       "</style>\n",
       "<table border=\"1\" class=\"dataframe\">\n",
       "  <thead>\n",
       "    <tr style=\"text-align: right;\">\n",
       "      <th></th>\n",
       "      <th>YEAR</th>\n",
       "      <th>MONTH</th>\n",
       "      <th>DAY</th>\n",
       "      <th>MIN</th>\n",
       "      <th>MAX</th>\n",
       "      <th>RAIN</th>\n",
       "      <th>RAD</th>\n",
       "    </tr>\n",
       "  </thead>\n",
       "  <tbody>\n",
       "    <tr>\n",
       "      <th>0</th>\n",
       "      <td>1991</td>\n",
       "      <td>1</td>\n",
       "      <td>1</td>\n",
       "      <td>7.3</td>\n",
       "      <td>14.9</td>\n",
       "      <td>0.7</td>\n",
       "      <td>3.956</td>\n",
       "    </tr>\n",
       "    <tr>\n",
       "      <th>1</th>\n",
       "      <td>1991</td>\n",
       "      <td>1</td>\n",
       "      <td>2</td>\n",
       "      <td>2.3</td>\n",
       "      <td>11.9</td>\n",
       "      <td>0.0</td>\n",
       "      <td>5.170</td>\n",
       "    </tr>\n",
       "    <tr>\n",
       "      <th>2</th>\n",
       "      <td>1991</td>\n",
       "      <td>1</td>\n",
       "      <td>3</td>\n",
       "      <td>5.0</td>\n",
       "      <td>15.4</td>\n",
       "      <td>0.1</td>\n",
       "      <td>6.312</td>\n",
       "    </tr>\n",
       "    <tr>\n",
       "      <th>3</th>\n",
       "      <td>1991</td>\n",
       "      <td>1</td>\n",
       "      <td>4</td>\n",
       "      <td>4.5</td>\n",
       "      <td>14.7</td>\n",
       "      <td>0.0</td>\n",
       "      <td>4.975</td>\n",
       "    </tr>\n",
       "    <tr>\n",
       "      <th>4</th>\n",
       "      <td>1991</td>\n",
       "      <td>1</td>\n",
       "      <td>5</td>\n",
       "      <td>5.1</td>\n",
       "      <td>14.1</td>\n",
       "      <td>0.5</td>\n",
       "      <td>5.622</td>\n",
       "    </tr>\n",
       "  </tbody>\n",
       "</table>\n",
       "</div>"
      ],
      "text/plain": [
       "   YEAR  MONTH  DAY  MIN   MAX  RAIN    RAD\n",
       "0  1991      1    1  7.3  14.9   0.7  3.956\n",
       "1  1991      1    2  2.3  11.9   0.0  5.170\n",
       "2  1991      1    3  5.0  15.4   0.1  6.312\n",
       "3  1991      1    4  4.5  14.7   0.0  4.975\n",
       "4  1991      1    5  5.1  14.1   0.5  5.622"
      ]
     },
     "execution_count": 3,
     "metadata": {},
     "output_type": "execute_result"
    }
   ],
   "source": [
    "#show the to data lists\n",
    "df_hist.head()"
   ]
  },
  {
   "cell_type": "code",
   "execution_count": 4,
   "id": "a9cc7d92",
   "metadata": {},
   "outputs": [],
   "source": [
    "#import the LARS-WG genereated synthetic data\n",
    "df_gen=pd.read_csv('data/Generated.dat',delimiter='\\t')"
   ]
  },
  {
   "cell_type": "code",
   "execution_count": 5,
   "id": "b542e947",
   "metadata": {},
   "outputs": [],
   "source": [
    "df_gen = df_gen.reset_index()"
   ]
  },
  {
   "cell_type": "code",
   "execution_count": 6,
   "id": "baf8c3ab",
   "metadata": {},
   "outputs": [
    {
     "data": {
      "text/plain": [
       "Index(['level_0', 'level_1', 'YEAR', 'DOY     MIN', 'MAX', 'RAIN', 'RAD'], dtype='object')"
      ]
     },
     "execution_count": 6,
     "metadata": {},
     "output_type": "execute_result"
    }
   ],
   "source": [
    "#get the column names\n",
    "gen_cols=df_gen.columns\n",
    "gen_cols"
   ]
  },
  {
   "cell_type": "code",
   "execution_count": 7,
   "id": "79bc0227",
   "metadata": {},
   "outputs": [],
   "source": [
    "#select the columns\n",
    "df_gen=df_gen[['level_0','level_1','YEAR','DOY     MIN','MAX','RAIN']]"
   ]
  },
  {
   "cell_type": "code",
   "execution_count": 8,
   "id": "9a58e5b8",
   "metadata": {},
   "outputs": [],
   "source": [
    "#swap columns to their exact data\n",
    "gen_cols = ['YEAR', 'DOY','MIN', 'MAX', 'RAIN', 'RAD']"
   ]
  },
  {
   "cell_type": "code",
   "execution_count": 9,
   "id": "792c7530",
   "metadata": {},
   "outputs": [],
   "source": [
    "#assign the new columns to the dataframe\n",
    "df_gen.columns=gen_cols"
   ]
  },
  {
   "cell_type": "code",
   "execution_count": 10,
   "id": "14f16582",
   "metadata": {
    "scrolled": true
   },
   "outputs": [
    {
     "data": {
      "text/html": [
       "<div>\n",
       "<style scoped>\n",
       "    .dataframe tbody tr th:only-of-type {\n",
       "        vertical-align: middle;\n",
       "    }\n",
       "\n",
       "    .dataframe tbody tr th {\n",
       "        vertical-align: top;\n",
       "    }\n",
       "\n",
       "    .dataframe thead th {\n",
       "        text-align: right;\n",
       "    }\n",
       "</style>\n",
       "<table border=\"1\" class=\"dataframe\">\n",
       "  <thead>\n",
       "    <tr style=\"text-align: right;\">\n",
       "      <th></th>\n",
       "      <th>YEAR</th>\n",
       "      <th>DOY</th>\n",
       "      <th>MIN</th>\n",
       "      <th>MAX</th>\n",
       "      <th>RAIN</th>\n",
       "      <th>RAD</th>\n",
       "    </tr>\n",
       "  </thead>\n",
       "  <tbody>\n",
       "    <tr>\n",
       "      <th>0</th>\n",
       "      <td>1</td>\n",
       "      <td>1</td>\n",
       "      <td>10.6</td>\n",
       "      <td>10.8</td>\n",
       "      <td>0.0</td>\n",
       "      <td>7.9</td>\n",
       "    </tr>\n",
       "    <tr>\n",
       "      <th>1</th>\n",
       "      <td>1</td>\n",
       "      <td>2</td>\n",
       "      <td>2.3</td>\n",
       "      <td>17.3</td>\n",
       "      <td>0.0</td>\n",
       "      <td>8.4</td>\n",
       "    </tr>\n",
       "    <tr>\n",
       "      <th>2</th>\n",
       "      <td>1</td>\n",
       "      <td>3</td>\n",
       "      <td>3.9</td>\n",
       "      <td>14.1</td>\n",
       "      <td>0.0</td>\n",
       "      <td>8.4</td>\n",
       "    </tr>\n",
       "    <tr>\n",
       "      <th>3</th>\n",
       "      <td>1</td>\n",
       "      <td>4</td>\n",
       "      <td>6.7</td>\n",
       "      <td>16.6</td>\n",
       "      <td>0.0</td>\n",
       "      <td>8.8</td>\n",
       "    </tr>\n",
       "    <tr>\n",
       "      <th>4</th>\n",
       "      <td>1</td>\n",
       "      <td>5</td>\n",
       "      <td>6.7</td>\n",
       "      <td>16.8</td>\n",
       "      <td>0.0</td>\n",
       "      <td>8.7</td>\n",
       "    </tr>\n",
       "  </tbody>\n",
       "</table>\n",
       "</div>"
      ],
      "text/plain": [
       "   YEAR  DOY   MIN   MAX  RAIN  RAD\n",
       "0     1    1  10.6  10.8   0.0  7.9\n",
       "1     1    2   2.3  17.3   0.0  8.4\n",
       "2     1    3   3.9  14.1   0.0  8.4\n",
       "3     1    4   6.7  16.6   0.0  8.8\n",
       "4     1    5   6.7  16.8   0.0  8.7"
      ]
     },
     "execution_count": 10,
     "metadata": {},
     "output_type": "execute_result"
    }
   ],
   "source": [
    "df_gen.head() #"
   ]
  },
  {
   "cell_type": "code",
   "execution_count": 11,
   "id": "b18df6dc",
   "metadata": {},
   "outputs": [],
   "source": [
    "boe=day_of_year = datetime.now().timetuple().tm_yday"
   ]
  },
  {
   "cell_type": "code",
   "execution_count": 12,
   "id": "a2f72d14",
   "metadata": {},
   "outputs": [
    {
     "data": {
      "text/plain": [
       "datetime.datetime(2024, 10, 16, 10, 27, 40, 879474)"
      ]
     },
     "execution_count": 12,
     "metadata": {},
     "output_type": "execute_result"
    }
   ],
   "source": [
    "datetime.now()"
   ]
  },
  {
   "cell_type": "code",
   "execution_count": 13,
   "id": "dc1f5666",
   "metadata": {},
   "outputs": [],
   "source": [
    "# pick your lead time start and end to contact the generated data to the clim data\n",
    "lead_start='1991-02-01'\n",
    "lead_end='1991-06-30'"
   ]
  },
  {
   "cell_type": "code",
   "execution_count": 14,
   "id": "b3b6f695",
   "metadata": {},
   "outputs": [],
   "source": [
    "#change to a datetime format \n",
    "lead_start = pd.to_datetime(lead_start)\n",
    "lead_end = pd.to_datetime(lead_end)"
   ]
  },
  {
   "cell_type": "code",
   "execution_count": 15,
   "id": "d61c68b6",
   "metadata": {},
   "outputs": [
    {
     "name": "stdout",
     "output_type": "stream",
     "text": [
      "the start and end day of the year: 32 up to 181\n"
     ]
    }
   ],
   "source": [
    "#get the day of year\n",
    "l_start=lead_start.timetuple().tm_yday\n",
    "l_end = lead_end.timetuple().tm_yday\n",
    "print(\"the start and end day of the year:\",l_start,'up to',l_end)"
   ]
  },
  {
   "cell_type": "code",
   "execution_count": 16,
   "id": "a3bd1995",
   "metadata": {},
   "outputs": [
    {
     "data": {
      "text/html": [
       "<div>\n",
       "<style scoped>\n",
       "    .dataframe tbody tr th:only-of-type {\n",
       "        vertical-align: middle;\n",
       "    }\n",
       "\n",
       "    .dataframe tbody tr th {\n",
       "        vertical-align: top;\n",
       "    }\n",
       "\n",
       "    .dataframe thead th {\n",
       "        text-align: right;\n",
       "    }\n",
       "</style>\n",
       "<table border=\"1\" class=\"dataframe\">\n",
       "  <thead>\n",
       "    <tr style=\"text-align: right;\">\n",
       "      <th></th>\n",
       "      <th>YEAR</th>\n",
       "      <th>DOY</th>\n",
       "      <th>MIN</th>\n",
       "      <th>MAX</th>\n",
       "      <th>RAIN</th>\n",
       "      <th>RAD</th>\n",
       "    </tr>\n",
       "  </thead>\n",
       "  <tbody>\n",
       "    <tr>\n",
       "      <th>31</th>\n",
       "      <td>1</td>\n",
       "      <td>32</td>\n",
       "      <td>9.2</td>\n",
       "      <td>14.5</td>\n",
       "      <td>0.2</td>\n",
       "      <td>5.8</td>\n",
       "    </tr>\n",
       "    <tr>\n",
       "      <th>32</th>\n",
       "      <td>1</td>\n",
       "      <td>33</td>\n",
       "      <td>-2.9</td>\n",
       "      <td>13.9</td>\n",
       "      <td>0.1</td>\n",
       "      <td>3.8</td>\n",
       "    </tr>\n",
       "    <tr>\n",
       "      <th>33</th>\n",
       "      <td>1</td>\n",
       "      <td>34</td>\n",
       "      <td>4.6</td>\n",
       "      <td>8.8</td>\n",
       "      <td>5.1</td>\n",
       "      <td>7.4</td>\n",
       "    </tr>\n",
       "    <tr>\n",
       "      <th>34</th>\n",
       "      <td>1</td>\n",
       "      <td>35</td>\n",
       "      <td>4.8</td>\n",
       "      <td>11.2</td>\n",
       "      <td>0.5</td>\n",
       "      <td>7.0</td>\n",
       "    </tr>\n",
       "    <tr>\n",
       "      <th>35</th>\n",
       "      <td>1</td>\n",
       "      <td>36</td>\n",
       "      <td>7.0</td>\n",
       "      <td>15.8</td>\n",
       "      <td>0.0</td>\n",
       "      <td>7.6</td>\n",
       "    </tr>\n",
       "    <tr>\n",
       "      <th>...</th>\n",
       "      <td>...</td>\n",
       "      <td>...</td>\n",
       "      <td>...</td>\n",
       "      <td>...</td>\n",
       "      <td>...</td>\n",
       "      <td>...</td>\n",
       "    </tr>\n",
       "    <tr>\n",
       "      <th>176</th>\n",
       "      <td>1</td>\n",
       "      <td>177</td>\n",
       "      <td>18.9</td>\n",
       "      <td>27.2</td>\n",
       "      <td>0.0</td>\n",
       "      <td>27.3</td>\n",
       "    </tr>\n",
       "    <tr>\n",
       "      <th>177</th>\n",
       "      <td>1</td>\n",
       "      <td>178</td>\n",
       "      <td>13.0</td>\n",
       "      <td>30.2</td>\n",
       "      <td>0.0</td>\n",
       "      <td>26.1</td>\n",
       "    </tr>\n",
       "    <tr>\n",
       "      <th>178</th>\n",
       "      <td>1</td>\n",
       "      <td>179</td>\n",
       "      <td>11.8</td>\n",
       "      <td>30.4</td>\n",
       "      <td>0.0</td>\n",
       "      <td>30.9</td>\n",
       "    </tr>\n",
       "    <tr>\n",
       "      <th>179</th>\n",
       "      <td>1</td>\n",
       "      <td>180</td>\n",
       "      <td>16.2</td>\n",
       "      <td>30.0</td>\n",
       "      <td>0.0</td>\n",
       "      <td>29.8</td>\n",
       "    </tr>\n",
       "    <tr>\n",
       "      <th>180</th>\n",
       "      <td>1</td>\n",
       "      <td>181</td>\n",
       "      <td>16.7</td>\n",
       "      <td>30.2</td>\n",
       "      <td>1.3</td>\n",
       "      <td>22.2</td>\n",
       "    </tr>\n",
       "  </tbody>\n",
       "</table>\n",
       "<p>150 rows × 6 columns</p>\n",
       "</div>"
      ],
      "text/plain": [
       "     YEAR  DOY   MIN   MAX  RAIN   RAD\n",
       "31      1   32   9.2  14.5   0.2   5.8\n",
       "32      1   33  -2.9  13.9   0.1   3.8\n",
       "33      1   34   4.6   8.8   5.1   7.4\n",
       "34      1   35   4.8  11.2   0.5   7.0\n",
       "35      1   36   7.0  15.8   0.0   7.6\n",
       "..    ...  ...   ...   ...   ...   ...\n",
       "176     1  177  18.9  27.2   0.0  27.3\n",
       "177     1  178  13.0  30.2   0.0  26.1\n",
       "178     1  179  11.8  30.4   0.0  30.9\n",
       "179     1  180  16.2  30.0   0.0  29.8\n",
       "180     1  181  16.7  30.2   1.3  22.2\n",
       "\n",
       "[150 rows x 6 columns]"
      ]
     },
     "execution_count": 16,
     "metadata": {},
     "output_type": "execute_result"
    }
   ],
   "source": [
    "#filetr genereated 1 in Year column and slice the day of the year from l_start to l_end\n",
    "df_gen[(df_gen['YEAR']==1 ) & (df_gen['DOY'].between(l_start, l_end))]"
   ]
  },
  {
   "cell_type": "code",
   "execution_count": 17,
   "id": "21ae7d22",
   "metadata": {},
   "outputs": [
    {
     "data": {
      "text/plain": [
       "Index(['YEAR', 'MONTH', 'DAY', 'MIN', 'MAX', 'RAIN', 'RAD'], dtype='object')"
      ]
     },
     "execution_count": 17,
     "metadata": {},
     "output_type": "execute_result"
    }
   ],
   "source": [
    "df_hist.columns"
   ]
  },
  {
   "cell_type": "code",
   "execution_count": 18,
   "id": "6435d5a1",
   "metadata": {},
   "outputs": [],
   "source": [
    "#rename the column in historic data DAY to DOY \n",
    "df_hist=df_hist.rename(columns={'DAY':'DOY'})"
   ]
  },
  {
   "cell_type": "code",
   "execution_count": 19,
   "id": "5ca08f8d",
   "metadata": {},
   "outputs": [],
   "source": [
    "#Join the dataframes df_hist and df_gen to df_main\n",
    "data = []\n",
    "for yr in df_hist.YEAR.unique():\n",
    "    for i in range(1,101):\n",
    "        df_1=df_hist[(df_hist['YEAR']==yr ) & (df_hist['MONTH']==1)]\n",
    "        df_1=df_1[['YEAR','DOY','MIN','MAX','RAIN','RAD']]\n",
    "        df_2 = df_gen[(df_gen['YEAR']==i ) & (df_gen['DOY'].between(l_start, l_end))]\n",
    "        df_sub=pd.concat([df_1,df_2],ignore_index=True)\n",
    "        df_sub['YEAR']=yr\n",
    "        df_sub.values.tolist()\n",
    "        data.append(df_sub)\n",
    "df_main=pd.concat(data)"
   ]
  },
  {
   "cell_type": "code",
   "execution_count": 20,
   "id": "5d0760e3",
   "metadata": {},
   "outputs": [
    {
     "data": {
      "text/html": [
       "<div>\n",
       "<style scoped>\n",
       "    .dataframe tbody tr th:only-of-type {\n",
       "        vertical-align: middle;\n",
       "    }\n",
       "\n",
       "    .dataframe tbody tr th {\n",
       "        vertical-align: top;\n",
       "    }\n",
       "\n",
       "    .dataframe thead th {\n",
       "        text-align: right;\n",
       "    }\n",
       "</style>\n",
       "<table border=\"1\" class=\"dataframe\">\n",
       "  <thead>\n",
       "    <tr style=\"text-align: right;\">\n",
       "      <th></th>\n",
       "      <th>YEAR</th>\n",
       "      <th>DOY</th>\n",
       "      <th>MIN</th>\n",
       "      <th>MAX</th>\n",
       "      <th>RAIN</th>\n",
       "      <th>RAD</th>\n",
       "    </tr>\n",
       "  </thead>\n",
       "  <tbody>\n",
       "    <tr>\n",
       "      <th>0</th>\n",
       "      <td>1991</td>\n",
       "      <td>1</td>\n",
       "      <td>7.3</td>\n",
       "      <td>14.9</td>\n",
       "      <td>0.7</td>\n",
       "      <td>3.956</td>\n",
       "    </tr>\n",
       "    <tr>\n",
       "      <th>1</th>\n",
       "      <td>1991</td>\n",
       "      <td>2</td>\n",
       "      <td>2.3</td>\n",
       "      <td>11.9</td>\n",
       "      <td>0.0</td>\n",
       "      <td>5.170</td>\n",
       "    </tr>\n",
       "    <tr>\n",
       "      <th>2</th>\n",
       "      <td>1991</td>\n",
       "      <td>3</td>\n",
       "      <td>5.0</td>\n",
       "      <td>15.4</td>\n",
       "      <td>0.1</td>\n",
       "      <td>6.312</td>\n",
       "    </tr>\n",
       "    <tr>\n",
       "      <th>3</th>\n",
       "      <td>1991</td>\n",
       "      <td>4</td>\n",
       "      <td>4.5</td>\n",
       "      <td>14.7</td>\n",
       "      <td>0.0</td>\n",
       "      <td>4.975</td>\n",
       "    </tr>\n",
       "    <tr>\n",
       "      <th>4</th>\n",
       "      <td>1991</td>\n",
       "      <td>5</td>\n",
       "      <td>5.1</td>\n",
       "      <td>14.1</td>\n",
       "      <td>0.5</td>\n",
       "      <td>5.622</td>\n",
       "    </tr>\n",
       "    <tr>\n",
       "      <th>...</th>\n",
       "      <td>...</td>\n",
       "      <td>...</td>\n",
       "      <td>...</td>\n",
       "      <td>...</td>\n",
       "      <td>...</td>\n",
       "      <td>...</td>\n",
       "    </tr>\n",
       "    <tr>\n",
       "      <th>176</th>\n",
       "      <td>2020</td>\n",
       "      <td>177</td>\n",
       "      <td>10.9</td>\n",
       "      <td>24.3</td>\n",
       "      <td>0.0</td>\n",
       "      <td>26.100</td>\n",
       "    </tr>\n",
       "    <tr>\n",
       "      <th>177</th>\n",
       "      <td>2020</td>\n",
       "      <td>178</td>\n",
       "      <td>18.5</td>\n",
       "      <td>29.6</td>\n",
       "      <td>0.0</td>\n",
       "      <td>28.400</td>\n",
       "    </tr>\n",
       "    <tr>\n",
       "      <th>178</th>\n",
       "      <td>2020</td>\n",
       "      <td>179</td>\n",
       "      <td>14.6</td>\n",
       "      <td>20.0</td>\n",
       "      <td>9.5</td>\n",
       "      <td>18.500</td>\n",
       "    </tr>\n",
       "    <tr>\n",
       "      <th>179</th>\n",
       "      <td>2020</td>\n",
       "      <td>180</td>\n",
       "      <td>22.3</td>\n",
       "      <td>24.5</td>\n",
       "      <td>0.0</td>\n",
       "      <td>29.200</td>\n",
       "    </tr>\n",
       "    <tr>\n",
       "      <th>180</th>\n",
       "      <td>2020</td>\n",
       "      <td>181</td>\n",
       "      <td>17.8</td>\n",
       "      <td>25.9</td>\n",
       "      <td>0.0</td>\n",
       "      <td>31.100</td>\n",
       "    </tr>\n",
       "  </tbody>\n",
       "</table>\n",
       "<p>543000 rows × 6 columns</p>\n",
       "</div>"
      ],
      "text/plain": [
       "     YEAR  DOY   MIN   MAX  RAIN     RAD\n",
       "0    1991    1   7.3  14.9   0.7   3.956\n",
       "1    1991    2   2.3  11.9   0.0   5.170\n",
       "2    1991    3   5.0  15.4   0.1   6.312\n",
       "3    1991    4   4.5  14.7   0.0   4.975\n",
       "4    1991    5   5.1  14.1   0.5   5.622\n",
       "..    ...  ...   ...   ...   ...     ...\n",
       "176  2020  177  10.9  24.3   0.0  26.100\n",
       "177  2020  178  18.5  29.6   0.0  28.400\n",
       "178  2020  179  14.6  20.0   9.5  18.500\n",
       "179  2020  180  22.3  24.5   0.0  29.200\n",
       "180  2020  181  17.8  25.9   0.0  31.100\n",
       "\n",
       "[543000 rows x 6 columns]"
      ]
     },
     "execution_count": 20,
     "metadata": {},
     "output_type": "execute_result"
    }
   ],
   "source": [
    "#ready to export the dataframe \n",
    "df_main"
   ]
  },
  {
   "cell_type": "code",
   "execution_count": null,
   "id": "bada9323",
   "metadata": {},
   "outputs": [],
   "source": [
    "# uncomment to export to csv\n",
    "#df_main.to_csv('/data/merged.csv')"
   ]
  },
  {
   "cell_type": "code",
   "execution_count": null,
   "id": "4c7778ab",
   "metadata": {},
   "outputs": [],
   "source": []
  }
 ],
 "metadata": {
  "kernelspec": {
   "display_name": "Python 3 (ipykernel)",
   "language": "python",
   "name": "python3"
  },
  "language_info": {
   "codemirror_mode": {
    "name": "ipython",
    "version": 3
   },
   "file_extension": ".py",
   "mimetype": "text/x-python",
   "name": "python",
   "nbconvert_exporter": "python",
   "pygments_lexer": "ipython3",
   "version": "3.11.5"
  }
 },
 "nbformat": 4,
 "nbformat_minor": 5
}
